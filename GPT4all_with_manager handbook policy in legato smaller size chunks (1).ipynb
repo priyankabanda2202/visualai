{
 "cells": [
  {
   "cell_type": "code",
   "execution_count": 4,
   "id": "d188714e",
   "metadata": {},
   "outputs": [],
   "source": [
    "from PyPDF2 import PdfReader\n",
    "def get_pdf_leave_text(pdf_docs):\n",
    "    leave_text=\"\"\n",
    "    for pdf in pdf_docs:\n",
    "        pdf_reader=PdfReader(pdf)\n",
    "        \n",
    "        for page_num in range(9,11):\n",
    "            page = pdf_reader.pages[page_num]\n",
    "            leave_text+=page.extract_text()\n",
    "    return leave_text"
   ]
  },
  {
   "cell_type": "code",
   "execution_count": 5,
   "id": "669390d1",
   "metadata": {},
   "outputs": [],
   "source": [
    "leave_text = get_pdf_leave_text([\"manager handbook policy in legato.pdf\"])"
   ]
  },
  {
   "cell_type": "code",
   "execution_count": 6,
   "id": "b172788e",
   "metadata": {},
   "outputs": [],
   "source": [
    "from langchain.text_splitter import RecursiveCharacterTextSplitter\n",
    "text_splitter = RecursiveCharacterTextSplitter(\n",
    "    # Set a really small chunk size, just to show.\n",
    "    chunk_size = 250,\n",
    "    chunk_overlap  = 50,\n",
    "    length_function = len,\n",
    "    add_start_index = True,\n",
    ")\n",
    "texts = text_splitter.create_documents([leave_text])"
   ]
  },
  {
   "cell_type": "code",
   "execution_count": 7,
   "id": "3de06ba1",
   "metadata": {},
   "outputs": [
    {
     "name": "stderr",
     "output_type": "stream",
     "text": [
      "C:\\ProgramData\\Anaconda3\\lib\\site-packages\\InstructorEmbedding\\instructor.py:7: TqdmExperimentalWarning: Using `tqdm.autonotebook.tqdm` in notebook mode. Use `tqdm.tqdm` instead to force console mode (e.g. in jupyter console)\n",
      "  from tqdm.autonotebook import trange\n"
     ]
    },
    {
     "name": "stdout",
     "output_type": "stream",
     "text": [
      "load INSTRUCTOR_Transformer\n",
      "max_seq_length  512\n"
     ]
    }
   ],
   "source": [
    "from langchain.embeddings import HuggingFaceInstructEmbeddings\n",
    "from langchain.vectorstores import FAISS\n",
    "def get_vector_storedb(text_chunks):\n",
    "    embeddings = HuggingFaceInstructEmbeddings(model_name=\"hkunlp/instructor-xl\")\n",
    "#     vector_store = FAISS.from_texts(texts=text_chunks,embedding=embeddings)\n",
    "    vector_store = FAISS.from_documents(documents=text_chunks,embedding=embeddings)\n",
    "    return vector_store\n",
    "vector_store = get_vector_storedb(texts)"
   ]
  },
  {
   "cell_type": "code",
   "execution_count": 8,
   "id": "b0c9820c",
   "metadata": {},
   "outputs": [
    {
     "name": "stdout",
     "output_type": "stream",
     "text": [
      "Found model file at  ./models/nous-hermes-13b.ggmlv3.q4_0.bin\n"
     ]
    }
   ],
   "source": [
    "from langchain.chains.question_answering import load_qa_chain\n",
    "from langchain import PromptTemplate\n",
    "template = \"\"\"Use the following pieces of context to answer the question at the end. \n",
    "    If you don't know the answer, just say that you don't know, don't try to make up an answer on your own. \n",
    "    Use three sentences maximum and keep the answer as concise as possible. \n",
    "\n",
    "    Follow below examples to give response:\n",
    "    \n",
    "    Question : Whom can a manger escalate to if there are issues with leaves ?\n",
    "    ChatBot Answer: The manager should reach out to the HRBP aligned to their tower.    \n",
    "    Question : An associate has exhausted all the emergency leaves and  unable to recover from COVID?\n",
    "    ChatBot Answer: The maximum emergency leaves that can be availed by any associate is 14 days. If you have exhausted emergency leaves then the associate has to avail leaves from their personal leave balance and take casual leave, sick leave, and annual leaves.    \n",
    "    Question : An associate is suffering from one of the Critical Illnesses and 30 days are not enough for an associate to recover. What are the next steps?\n",
    "    ChatBot Answer: The associate is supposed to exhaust his annual, casual, and sick leave. After all the leaves are exhausted, each case needs to be discussed separately qualifying for LWP.\n",
    "    \n",
    "    {context}\n",
    "    Question: {question}\n",
    "    ChatBot Answer: \"\"\"\n",
    "# Prompt\n",
    "QA_CHAIN_PROMPT = PromptTemplate(\n",
    "input_variables=[\"context\", \"question\"],\n",
    "template=template,\n",
    "    )\n",
    "from langchain.llms import GPT4All\n",
    "\n",
    "GPT4All_llm_nous = GPT4All(\n",
    "    model=\"./models/nous-hermes-13b.ggmlv3.q4_0.bin\",\n",
    "    max_tokens=2048,\n",
    ")"
   ]
  },
  {
   "cell_type": "code",
   "execution_count": 9,
   "id": "2f12b951",
   "metadata": {},
   "outputs": [],
   "source": [
    "from langchain.chains.question_answering import load_qa_chain\n",
    "from langchain import PromptTemplate\n",
    "from langchain.llms import GPT4All\n",
    "\n",
    "\n",
    "\n",
    "def get_response(question):\n",
    "        \n",
    "    similar_docs = vector_store.similarity_search(question)    \n",
    "    print(similar_docs)\n",
    "    # Chain\n",
    "    GPT4All_llm_nous_chain = load_qa_chain(GPT4All_llm_nous, chain_type=\"stuff\", prompt=QA_CHAIN_PROMPT)\n",
    "\n",
    "    # Run\n",
    "    result = GPT4All_llm_nous_chain({\"input_documents\": similar_docs, \"question\": question}, return_only_outputs=True)\n",
    "\n",
    "    return result['output_text']"
   ]
  },
  {
   "cell_type": "code",
   "execution_count": 10,
   "id": "1650ee7e",
   "metadata": {},
   "outputs": [
    {
     "name": "stdout",
     "output_type": "stream",
     "text": [
      "[Document(page_content='Emergency Leaves10 Days COVID cases , Laptop Replacement and New Joiners not \\nreceiving the LaptopSubmission of medical documents of family member mandatory for availing emergency leave under this category.', metadata={'start_index': 4424}), Document(page_content='Emergency Leaves10 Days COVID cases , Laptop Replacement and New Joiners not receiving the Laptop\\nComp Off (CO) Depending', metadata={'start_index': 3245}), Document(page_content=\"in case the associate's access \\nhas not been resumed after an associate's BGV has turned Green from RedHRBP to decide and communicate the business on the Garden Leave and get it applied from back end by sending inputs to the HROPs Team\", metadata={'start_index': 8345}), Document(page_content='aIn case an associate is unable to meet the complete target, the Reporting Authority can apply half day leave on associate’s behalf , if the associate has not been available for more than 4 hours.\\n•', metadata={'start_index': 5058})]\n"
     ]
    },
    {
     "data": {
      "text/plain": [
       "' The maximum emergency leaves that can be availed by any associate is 14 days. If you have exhausted emergency leaves then the associate has to avail leaves from their personal leave balance and take casual leave, sick leave, and annual leaves.'"
      ]
     },
     "execution_count": 10,
     "metadata": {},
     "output_type": "execute_result"
    }
   ],
   "source": [
    "get_response(\"An associate has exhausted all the emergency leaves and  unable to recover from COVID?\")"
   ]
  },
  {
   "cell_type": "code",
   "execution_count": 11,
   "id": "f7b67001",
   "metadata": {},
   "outputs": [
    {
     "name": "stdout",
     "output_type": "stream",
     "text": [
      "[Document(page_content='Voluntary Time off 2 Days Voluntary time off will help associates to volunteer for NGOs supported by SWARA, our CSR program. - 2 days can be utilized at one go or minimum of two hours or more across multiple days.', metadata={'start_index': 996}), Document(page_content='Eligible associates receive up to 2 days of paid time in a year to volunteer for qualified \\ncharities as part of our CSR program.', metadata={'start_index': 1210}), Document(page_content='off is earned . \\nLeave Without Pay 90 Days This leave shall be provided up to maximum of 3 months (90 days) subject to exigencies \\nof work, and based on prior approval by the manager/HR. \\nLeave Category Days Guidelines Comments', metadata={'start_index': 3545}), Document(page_content='Comp Off (CO) Depending\\nAssociates who are required to work on non-working days (public holiday or weekends) or have worked by earning a total OT of 9 hours.CO is valid\\xa0 for 3 months from the day comp \\noff is earned .', metadata={'start_index': 3343})]\n"
     ]
    },
    {
     "data": {
      "text/plain": [
       "'2 days'"
      ]
     },
     "execution_count": 11,
     "metadata": {},
     "output_type": "execute_result"
    }
   ],
   "source": [
    "get_response(\"How many days can a associate take voluntary time off and what are the guidelines?\")"
   ]
  },
  {
   "cell_type": "code",
   "execution_count": null,
   "id": "8b2ed68c",
   "metadata": {},
   "outputs": [],
   "source": []
  },
  {
   "cell_type": "code",
   "execution_count": null,
   "id": "daf5c5c8",
   "metadata": {},
   "outputs": [],
   "source": []
  },
  {
   "cell_type": "code",
   "execution_count": null,
   "id": "5a530dac",
   "metadata": {},
   "outputs": [],
   "source": []
  }
 ],
 "metadata": {
  "kernelspec": {
   "display_name": "Python 3 (ipykernel)",
   "language": "python",
   "name": "python3"
  },
  "language_info": {
   "codemirror_mode": {
    "name": "ipython",
    "version": 3
   },
   "file_extension": ".py",
   "mimetype": "text/x-python",
   "name": "python",
   "nbconvert_exporter": "python",
   "pygments_lexer": "ipython3",
   "version": "3.9.12"
  }
 },
 "nbformat": 4,
 "nbformat_minor": 5
}
